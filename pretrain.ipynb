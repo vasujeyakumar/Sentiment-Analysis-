{
 "cells": [
  {
   "cell_type": "code",
   "execution_count": 4,
   "metadata": {},
   "outputs": [
    {
     "name": "stdout",
     "output_type": "stream",
     "text": [
      "Model loaded successfully!\n"
     ]
    }
   ],
   "source": [
    "with open('random_forestl.pkl', 'rb') as file:\n",
    "    model = pickle.load(file)              \n",
    "\n",
    "print(\"Model loaded successfully!\")"
   ]
  },
  {
   "cell_type": "code",
   "execution_count": 12,
   "metadata": {},
   "outputs": [],
   "source": [
    "with open('vectorize.pkl', 'rb') as file:\n",
    "    vector = pickle.load(file)"
   ]
  },
  {
   "cell_type": "code",
   "execution_count": 21,
   "metadata": {},
   "outputs": [
    {
     "name": "stdout",
     "output_type": "stream",
     "text": [
      "<Compressed Sparse Row sparse matrix of dtype 'float64'\n",
      "\twith 5 stored elements and shape (1, 10416)>\n",
      "  Coords\tValues\n",
      "  (0, 3654)\t0.13777213160230095\n",
      "  (0, 4891)\t0.6788426707544017\n",
      "  (0, 6955)\t0.4560454847719884\n",
      "  (0, 8053)\t0.23975860395228413\n",
      "  (0, 9150)\t0.5047076339493222\n"
     ]
    }
   ],
   "source": [
    "input=\"the shirt is very very poor fit\"\n",
    "vector_value=vector.transform([input])\n",
    "print(vector_value)"
   ]
  },
  {
   "cell_type": "code",
   "execution_count": 22,
   "metadata": {},
   "outputs": [],
   "source": [
    "predict=model.predict(vector_value)"
   ]
  },
  {
   "cell_type": "code",
   "execution_count": 23,
   "metadata": {},
   "outputs": [
    {
     "data": {
      "text/plain": [
       "array(['positive'], dtype=object)"
      ]
     },
     "execution_count": 23,
     "metadata": {},
     "output_type": "execute_result"
    }
   ],
   "source": [
    "predict"
   ]
  },
  {
   "cell_type": "code",
   "execution_count": null,
   "metadata": {},
   "outputs": [],
   "source": [
    "import pandas as pd\n",
    "from nltk.tokenize import word_tokenize\n",
    "import pickle\n",
    "\n",
    "# Load the saved lemmatizer and stop words from the pickle file\n",
    "with open('preprocessing_components.pkl', 'rb') as f:\n",
    "    preprocessing_components = pickle.load(f)\n",
    "\n",
    "loaded_lemmatizer = preprocessing_components['lemmatizer']\n",
    "loaded_stop_words = preprocessing_components['stop_words']\n",
    "\n",
    "\n",
    "def pre_process_text(text, lemmatizer, stop_words):\n",
    "   \n",
    "    tokens = word_tokenize(text)\n",
    "    \n",
    "    tokens = [word for word in tokens if word.lower() not in stop_words]\n",
    "    \n",
    "    # Lemmatize the remaining tokens\n",
    "    lemmatized_tokens = [lemmatizer.lemmatize(word) for word in tokens]\n",
    "\n",
    "    # Return the pre-processed text\n",
    "    return ' '.join(lemmatized_tokens)\n",
    "\n",
    "# Apply the pre-processing function to the 'Review Text' column of your dataframe\n",
    "text = df['Review Text'].apply(lambda x: pre_process_text(x, loaded_lemmatizer, loaded_stop_words))\n"
   ]
  }
 ],
 "metadata": {
  "kernelspec": {
   "display_name": "env",
   "language": "python",
   "name": "python3"
  },
  "language_info": {
   "codemirror_mode": {
    "name": "ipython",
    "version": 3
   },
   "file_extension": ".py",
   "mimetype": "text/x-python",
   "name": "python",
   "nbconvert_exporter": "python",
   "pygments_lexer": "ipython3",
   "version": "3.12.4"
  }
 },
 "nbformat": 4,
 "nbformat_minor": 2
}
